{
 "cells": [
  {
   "attachments": {},
   "cell_type": "markdown",
   "metadata": {},
   "source": [
    "# Wine Quality Classification: Extending Logistic Regression"
   ]
  },
  {
   "attachments": {},
   "cell_type": "markdown",
   "metadata": {},
   "source": [
    "##### Minho Song"
   ]
  },
  {
   "attachments": {},
   "cell_type": "markdown",
   "metadata": {},
   "source": [
    "#### 1. Business Understanding"
   ]
  },
  {
   "attachments": {},
   "cell_type": "markdown",
   "metadata": {},
   "source": [
    "Wine quality dataset consists of two datasets, red and white vihno verde wine samples for Portugal. The original purpose of the dataset was to set a model for wine quality based on physicochemical tests.<br> \n",
    "The task here is to classify wine quality from 0 to 10 based on 11 physicochemical features including acidity, pH, and alcohol.<br><br>\n",
    "This classification model will help various entities of interest in wine industry from winemakers, wine retailers to end users such as wine enthusiasts or collectors.<br>\n",
    "For example, this classification model can facilitate quality control in vineyards by ensuring consistency and quality in wine production. Wine retailers can use classification data for wine recommendation or pricing. The end users can make informed decisions about buying new wines based on classification data.<br><br>\n",
    "The accuracy of wine quality classification should vary depending on where you want to use it.<br> For quality control from wine makers the classifier should perform over 95% accuracy to be successful considering its importance in business. <br> The accuracy required for customer recommendation should be above 85% because this can lead to sales and customer satisfaction.<br>\n",
    "The personal wine collecting does not require high accuracy from the classification model. The accuracy over 80% should be enough to be successful for this task.\n"
   ]
  },
  {
   "attachments": {},
   "cell_type": "markdown",
   "metadata": {},
   "source": [
    "Data Set: Cortez,Paulo, Cerdeira,A., Almeida,F., Matos,T., and Reis,J.. (2009). Wine Quality. UCI Machine Learning Repository. https://doi.org/10.24432/C56S3T."
   ]
  },
  {
   "attachments": {},
   "cell_type": "markdown",
   "metadata": {},
   "source": [
    "### 2. Data Preparation"
   ]
  },
  {
   "cell_type": "code",
   "execution_count": 5,
   "metadata": {},
   "outputs": [
    {
     "name": "stdout",
     "output_type": "stream",
     "text": [
      "{'uci_id': 186, 'name': 'Wine Quality', 'repository_url': 'https://archive.ics.uci.edu/dataset/186/wine+quality', 'data_url': 'https://archive.ics.uci.edu/static/public/186/data.csv', 'abstract': 'Two datasets are included, related to red and white vinho verde wine samples, from the north of Portugal. The goal is to model wine quality based on physicochemical tests (see [Cortez et al., 2009], http://www3.dsi.uminho.pt/pcortez/wine/).', 'area': 'Business', 'tasks': ['Classification', 'Regression'], 'characteristics': ['Multivariate'], 'num_instances': 4898, 'num_features': 11, 'feature_types': ['Real'], 'demographics': [], 'target_col': ['quality'], 'index_col': None, 'has_missing_values': 'no', 'missing_values_symbol': None, 'year_of_dataset_creation': 2009, 'last_updated': 'Wed Nov 15 2023', 'dataset_doi': '10.24432/C56S3T', 'creators': ['Paulo Cortez', 'A. Cerdeira', 'F. Almeida', 'T. Matos', 'J. Reis'], 'intro_paper': {'title': 'Modeling wine preferences by data mining from physicochemical properties', 'authors': 'P. Cortez, A. Cerdeira, Fernando Almeida, Telmo Matos, J. Reis', 'published_in': 'Decision Support Systems', 'year': 2009, 'url': 'https://www.semanticscholar.org/paper/Modeling-wine-preferences-by-data-mining-from-Cortez-Cerdeira/bf15a0ccc14ac1deb5cea570c870389c16be019c', 'doi': None}, 'additional_info': {'summary': 'The two datasets are related to red and white variants of the Portuguese \"Vinho Verde\" wine. For more details, consult: http://www.vinhoverde.pt/en/ or the reference [Cortez et al., 2009].  Due to privacy and logistic issues, only physicochemical (inputs) and sensory (the output) variables are available (e.g. there is no data about grape types, wine brand, wine selling price, etc.).\\n\\nThese datasets can be viewed as classification or regression tasks.  The classes are ordered and not balanced (e.g. there are many more normal wines than excellent or poor ones). Outlier detection algorithms could be used to detect the few excellent or poor wines. Also, we are not sure if all input variables are relevant. So it could be interesting to test feature selection methods.\\n', 'purpose': None, 'funded_by': None, 'instances_represent': None, 'recommended_data_splits': None, 'sensitive_data': None, 'preprocessing_description': None, 'variable_info': 'For more information, read [Cortez et al., 2009].\\r\\nInput variables (based on physicochemical tests):\\r\\n   1 - fixed acidity\\r\\n   2 - volatile acidity\\r\\n   3 - citric acid\\r\\n   4 - residual sugar\\r\\n   5 - chlorides\\r\\n   6 - free sulfur dioxide\\r\\n   7 - total sulfur dioxide\\r\\n   8 - density\\r\\n   9 - pH\\r\\n   10 - sulphates\\r\\n   11 - alcohol\\r\\nOutput variable (based on sensory data): \\r\\n   12 - quality (score between 0 and 10)', 'citation': None}}\n",
      "                    name     role         type demographic  \\\n",
      "0          fixed_acidity  Feature   Continuous        None   \n",
      "1       volatile_acidity  Feature   Continuous        None   \n",
      "2            citric_acid  Feature   Continuous        None   \n",
      "3         residual_sugar  Feature   Continuous        None   \n",
      "4              chlorides  Feature   Continuous        None   \n",
      "5    free_sulfur_dioxide  Feature   Continuous        None   \n",
      "6   total_sulfur_dioxide  Feature   Continuous        None   \n",
      "7                density  Feature   Continuous        None   \n",
      "8                     pH  Feature   Continuous        None   \n",
      "9              sulphates  Feature   Continuous        None   \n",
      "10               alcohol  Feature   Continuous        None   \n",
      "11               quality   Target      Integer        None   \n",
      "12                 color    Other  Categorical        None   \n",
      "\n",
      "               description units missing_values  \n",
      "0                     None  None             no  \n",
      "1                     None  None             no  \n",
      "2                     None  None             no  \n",
      "3                     None  None             no  \n",
      "4                     None  None             no  \n",
      "5                     None  None             no  \n",
      "6                     None  None             no  \n",
      "7                     None  None             no  \n",
      "8                     None  None             no  \n",
      "9                     None  None             no  \n",
      "10                    None  None             no  \n",
      "11  score between 0 and 10  None             no  \n",
      "12            red or white  None             no  \n"
     ]
    }
   ],
   "source": [
    "from ucimlrepo import fetch_ucirepo \n",
    "import pandas as pd\n",
    "import numpy as np\n",
    "from sklearn.preprocessing import StandardScaler\n",
    "from sklearn.decomposition import PCA  \n",
    "\n",
    "# fetch dataset \n",
    "wine_quality= fetch_ucirepo(id=186) \n",
    "\n",
    "# data (as pandas dataframes) \n",
    "X = wine_quality.data.features \n",
    "y = wine_quality.data.targets\n",
    "# metadata \n",
    "print(wine_quality.metadata) \n",
    "  \n",
    "# variable information \n",
    "print(wine_quality.variables) "
   ]
  },
  {
   "attachments": {},
   "cell_type": "markdown",
   "metadata": {},
   "source": [
    "##### 2.1 Data pre-processing"
   ]
  },
  {
   "cell_type": "code",
   "execution_count": 6,
   "metadata": {},
   "outputs": [
    {
     "name": "stdout",
     "output_type": "stream",
     "text": [
      "<class 'pandas.core.frame.DataFrame'>\n",
      "RangeIndex: 6497 entries, 0 to 6496\n",
      "Data columns (total 11 columns):\n",
      " #   Column                Non-Null Count  Dtype  \n",
      "---  ------                --------------  -----  \n",
      " 0   fixed_acidity         6497 non-null   float64\n",
      " 1   volatile_acidity      6497 non-null   float64\n",
      " 2   citric_acid           6497 non-null   float64\n",
      " 3   residual_sugar        6497 non-null   float64\n",
      " 4   chlorides             6497 non-null   float64\n",
      " 5   free_sulfur_dioxide   6497 non-null   float64\n",
      " 6   total_sulfur_dioxide  6497 non-null   float64\n",
      " 7   density               6497 non-null   float64\n",
      " 8   pH                    6497 non-null   float64\n",
      " 9   sulphates             6497 non-null   float64\n",
      " 10  alcohol               6497 non-null   float64\n",
      "dtypes: float64(11)\n",
      "memory usage: 558.5 KB\n",
      "None\n",
      "<class 'pandas.core.frame.DataFrame'>\n",
      "RangeIndex: 6497 entries, 0 to 6496\n",
      "Data columns (total 1 columns):\n",
      " #   Column   Non-Null Count  Dtype\n",
      "---  ------   --------------  -----\n",
      " 0   quality  6497 non-null   int64\n",
      "dtypes: int64(1)\n",
      "memory usage: 50.9 KB\n",
      "None\n"
     ]
    }
   ],
   "source": [
    "print(X.info())\n",
    "print(y.info())"
   ]
  },
  {
   "cell_type": "code",
   "execution_count": 7,
   "metadata": {},
   "outputs": [
    {
     "name": "stdout",
     "output_type": "stream",
     "text": [
      "      fixed_acidity  volatile_acidity  citric_acid  residual_sugar  chlorides  \\\n",
      "0               7.4              0.70         0.00             1.9      0.076   \n",
      "4               7.4              0.70         0.00             1.9      0.076   \n",
      "9               7.5              0.50         0.36             6.1      0.071   \n",
      "11              7.5              0.50         0.36             6.1      0.071   \n",
      "22              7.9              0.43         0.21             1.6      0.106   \n",
      "...             ...               ...          ...             ...        ...   \n",
      "6450            6.4              0.33         0.44             8.9      0.055   \n",
      "6454            7.1              0.23         0.39            13.7      0.058   \n",
      "6455            7.1              0.23         0.39            13.7      0.058   \n",
      "6478            6.6              0.34         0.40             8.1      0.046   \n",
      "6479            6.6              0.34         0.40             8.1      0.046   \n",
      "\n",
      "      free_sulfur_dioxide  total_sulfur_dioxide  density    pH  sulphates  \\\n",
      "0                    11.0                  34.0  0.99780  3.51       0.56   \n",
      "4                    11.0                  34.0  0.99780  3.51       0.56   \n",
      "9                    17.0                 102.0  0.99780  3.35       0.80   \n",
      "11                   17.0                 102.0  0.99780  3.35       0.80   \n",
      "22                   10.0                  37.0  0.99660  3.17       0.91   \n",
      "...                   ...                   ...      ...   ...        ...   \n",
      "6450                 52.0                 164.0  0.99488  3.10       0.48   \n",
      "6454                 26.0                 172.0  0.99755  2.90       0.46   \n",
      "6455                 26.0                 172.0  0.99755  2.90       0.46   \n",
      "6478                 68.0                 170.0  0.99494  3.15       0.50   \n",
      "6479                 68.0                 170.0  0.99494  3.15       0.50   \n",
      "\n",
      "        alcohol  quality  \n",
      "0      9.400000        5  \n",
      "4      9.400000        5  \n",
      "9     10.500000        5  \n",
      "11    10.500000        5  \n",
      "22     9.500000        5  \n",
      "...         ...      ...  \n",
      "6450   9.600000        5  \n",
      "6454   9.000000        6  \n",
      "6455   9.000000        6  \n",
      "6478   9.533333        6  \n",
      "6479   9.533333        6  \n",
      "\n",
      "[2172 rows x 12 columns]\n"
     ]
    }
   ],
   "source": [
    "# check if there is duplicate data\n",
    "combined_df = pd.concat([X, y], axis=1)\n",
    "duplicate_detect = combined_df.duplicated(keep=False)\n",
    "duplicate_data = combined_df[duplicate_detect]\n",
    "\n",
    "len(duplicate_data)\n",
    "print(duplicate_data)"
   ]
  },
  {
   "attachments": {},
   "cell_type": "markdown",
   "metadata": {},
   "source": [
    "There are 2172 duplicate data entry.<br>\n",
    "The task of this classification is based on the numeric values of the features and the same feature results in the same quality score.<br>\n",
    "In order to keep the data integrity and reduce the computational cost, I decided to remove the duplicate values."
   ]
  },
  {
   "cell_type": "code",
   "execution_count": 8,
   "metadata": {},
   "outputs": [
    {
     "name": "stdout",
     "output_type": "stream",
     "text": [
      "<class 'pandas.core.series.Series'>\n",
      "Index: 5318 entries, 0 to 6496\n",
      "Series name: quality\n",
      "Non-Null Count  Dtype\n",
      "--------------  -----\n",
      "5318 non-null   int64\n",
      "dtypes: int64(1)\n",
      "memory usage: 83.1 KB\n",
      "None \n",
      "\n",
      "Cleaned data X:\n",
      "    fixed_acidity  volatile_acidity  citric_acid  residual_sugar  chlorides  \\\n",
      "0            7.4              0.70         0.00             1.9      0.076   \n",
      "1            7.8              0.88         0.00             2.6      0.098   \n",
      "2            7.8              0.76         0.04             2.3      0.092   \n",
      "3           11.2              0.28         0.56             1.9      0.075   \n",
      "5            7.4              0.66         0.00             1.8      0.075   \n",
      "\n",
      "   free_sulfur_dioxide  total_sulfur_dioxide  density    pH  sulphates  \\\n",
      "0                 11.0                  34.0   0.9978  3.51       0.56   \n",
      "1                 25.0                  67.0   0.9968  3.20       0.68   \n",
      "2                 15.0                  54.0   0.9970  3.26       0.65   \n",
      "3                 17.0                  60.0   0.9980  3.16       0.58   \n",
      "5                 13.0                  40.0   0.9978  3.51       0.56   \n",
      "\n",
      "   alcohol  \n",
      "0      9.4  \n",
      "1      9.8  \n",
      "2      9.8  \n",
      "3      9.8  \n",
      "5      9.4  \n"
     ]
    }
   ],
   "source": [
    "#drop duplicates\n",
    "unique_df = combined_df.drop_duplicates()\n",
    "\n",
    "# divide the data from the target in the dataset\n",
    "X = unique_df.drop(columns=['quality'])\n",
    "y = unique_df['quality']\n",
    "\n",
    "print(y.info(),'\\n')\n",
    "print('Cleaned data X:\\n',X.head())\n"
   ]
  },
  {
   "attachments": {},
   "cell_type": "markdown",
   "metadata": {},
   "source": [
    "The cleaned dataset has 5,318 data.<br>\n",
    "All features have float values, and the target has integer values.<br>\n",
    "There are no missing values based on the dataframe information.<br>\n",
    "We could use mean or median imputation if there were missing values in the dataset."
   ]
  },
  {
   "cell_type": "code",
   "execution_count": 9,
   "metadata": {},
   "outputs": [
    {
     "data": {
      "text/html": [
       "<div>\n",
       "<style scoped>\n",
       "    .dataframe tbody tr th:only-of-type {\n",
       "        vertical-align: middle;\n",
       "    }\n",
       "\n",
       "    .dataframe tbody tr th {\n",
       "        vertical-align: top;\n",
       "    }\n",
       "\n",
       "    .dataframe thead th {\n",
       "        text-align: right;\n",
       "    }\n",
       "</style>\n",
       "<table border=\"1\" class=\"dataframe\">\n",
       "  <thead>\n",
       "    <tr style=\"text-align: right;\">\n",
       "      <th></th>\n",
       "      <th>fixed_acidity</th>\n",
       "      <th>volatile_acidity</th>\n",
       "      <th>citric_acid</th>\n",
       "      <th>residual_sugar</th>\n",
       "      <th>chlorides</th>\n",
       "      <th>free_sulfur_dioxide</th>\n",
       "      <th>total_sulfur_dioxide</th>\n",
       "      <th>density</th>\n",
       "      <th>pH</th>\n",
       "      <th>sulphates</th>\n",
       "      <th>alcohol</th>\n",
       "    </tr>\n",
       "  </thead>\n",
       "  <tbody>\n",
       "    <tr>\n",
       "      <th>count</th>\n",
       "      <td>5318.000000</td>\n",
       "      <td>5318.000000</td>\n",
       "      <td>5318.000000</td>\n",
       "      <td>5318.000000</td>\n",
       "      <td>5318.000000</td>\n",
       "      <td>5318.000000</td>\n",
       "      <td>5318.000000</td>\n",
       "      <td>5318.000000</td>\n",
       "      <td>5318.000000</td>\n",
       "      <td>5318.000000</td>\n",
       "      <td>5318.000000</td>\n",
       "    </tr>\n",
       "    <tr>\n",
       "      <th>mean</th>\n",
       "      <td>7.215523</td>\n",
       "      <td>0.344171</td>\n",
       "      <td>0.318522</td>\n",
       "      <td>5.049605</td>\n",
       "      <td>0.056700</td>\n",
       "      <td>30.030463</td>\n",
       "      <td>114.107747</td>\n",
       "      <td>0.994536</td>\n",
       "      <td>3.224639</td>\n",
       "      <td>0.533402</td>\n",
       "      <td>10.549222</td>\n",
       "    </tr>\n",
       "    <tr>\n",
       "      <th>std</th>\n",
       "      <td>1.319777</td>\n",
       "      <td>0.168264</td>\n",
       "      <td>0.147177</td>\n",
       "      <td>4.500645</td>\n",
       "      <td>0.036865</td>\n",
       "      <td>17.804365</td>\n",
       "      <td>56.783848</td>\n",
       "      <td>0.002966</td>\n",
       "      <td>0.160403</td>\n",
       "      <td>0.149753</td>\n",
       "      <td>1.185964</td>\n",
       "    </tr>\n",
       "    <tr>\n",
       "      <th>min</th>\n",
       "      <td>3.800000</td>\n",
       "      <td>0.080000</td>\n",
       "      <td>0.000000</td>\n",
       "      <td>0.600000</td>\n",
       "      <td>0.009000</td>\n",
       "      <td>1.000000</td>\n",
       "      <td>6.000000</td>\n",
       "      <td>0.987110</td>\n",
       "      <td>2.720000</td>\n",
       "      <td>0.220000</td>\n",
       "      <td>8.000000</td>\n",
       "    </tr>\n",
       "    <tr>\n",
       "      <th>25%</th>\n",
       "      <td>6.400000</td>\n",
       "      <td>0.230000</td>\n",
       "      <td>0.240000</td>\n",
       "      <td>1.800000</td>\n",
       "      <td>0.038000</td>\n",
       "      <td>16.000000</td>\n",
       "      <td>74.000000</td>\n",
       "      <td>0.992200</td>\n",
       "      <td>3.110000</td>\n",
       "      <td>0.430000</td>\n",
       "      <td>9.500000</td>\n",
       "    </tr>\n",
       "    <tr>\n",
       "      <th>50%</th>\n",
       "      <td>7.000000</td>\n",
       "      <td>0.300000</td>\n",
       "      <td>0.310000</td>\n",
       "      <td>2.700000</td>\n",
       "      <td>0.047000</td>\n",
       "      <td>28.000000</td>\n",
       "      <td>116.000000</td>\n",
       "      <td>0.994660</td>\n",
       "      <td>3.210000</td>\n",
       "      <td>0.510000</td>\n",
       "      <td>10.400000</td>\n",
       "    </tr>\n",
       "    <tr>\n",
       "      <th>75%</th>\n",
       "      <td>7.700000</td>\n",
       "      <td>0.410000</td>\n",
       "      <td>0.400000</td>\n",
       "      <td>7.500000</td>\n",
       "      <td>0.066000</td>\n",
       "      <td>41.000000</td>\n",
       "      <td>153.750000</td>\n",
       "      <td>0.996770</td>\n",
       "      <td>3.330000</td>\n",
       "      <td>0.600000</td>\n",
       "      <td>11.400000</td>\n",
       "    </tr>\n",
       "    <tr>\n",
       "      <th>max</th>\n",
       "      <td>15.900000</td>\n",
       "      <td>1.580000</td>\n",
       "      <td>1.660000</td>\n",
       "      <td>65.800000</td>\n",
       "      <td>0.611000</td>\n",
       "      <td>289.000000</td>\n",
       "      <td>440.000000</td>\n",
       "      <td>1.038980</td>\n",
       "      <td>4.010000</td>\n",
       "      <td>2.000000</td>\n",
       "      <td>14.900000</td>\n",
       "    </tr>\n",
       "  </tbody>\n",
       "</table>\n",
       "</div>"
      ],
      "text/plain": [
       "       fixed_acidity  volatile_acidity  citric_acid  residual_sugar  \\\n",
       "count    5318.000000       5318.000000  5318.000000     5318.000000   \n",
       "mean        7.215523          0.344171     0.318522        5.049605   \n",
       "std         1.319777          0.168264     0.147177        4.500645   \n",
       "min         3.800000          0.080000     0.000000        0.600000   \n",
       "25%         6.400000          0.230000     0.240000        1.800000   \n",
       "50%         7.000000          0.300000     0.310000        2.700000   \n",
       "75%         7.700000          0.410000     0.400000        7.500000   \n",
       "max        15.900000          1.580000     1.660000       65.800000   \n",
       "\n",
       "         chlorides  free_sulfur_dioxide  total_sulfur_dioxide      density  \\\n",
       "count  5318.000000          5318.000000           5318.000000  5318.000000   \n",
       "mean      0.056700            30.030463            114.107747     0.994536   \n",
       "std       0.036865            17.804365             56.783848     0.002966   \n",
       "min       0.009000             1.000000              6.000000     0.987110   \n",
       "25%       0.038000            16.000000             74.000000     0.992200   \n",
       "50%       0.047000            28.000000            116.000000     0.994660   \n",
       "75%       0.066000            41.000000            153.750000     0.996770   \n",
       "max       0.611000           289.000000            440.000000     1.038980   \n",
       "\n",
       "                pH    sulphates      alcohol  \n",
       "count  5318.000000  5318.000000  5318.000000  \n",
       "mean      3.224639     0.533402    10.549222  \n",
       "std       0.160403     0.149753     1.185964  \n",
       "min       2.720000     0.220000     8.000000  \n",
       "25%       3.110000     0.430000     9.500000  \n",
       "50%       3.210000     0.510000    10.400000  \n",
       "75%       3.330000     0.600000    11.400000  \n",
       "max       4.010000     2.000000    14.900000  "
      ]
     },
     "execution_count": 9,
     "metadata": {},
     "output_type": "execute_result"
    }
   ],
   "source": [
    "# variable description\n",
    "X.describe()"
   ]
  },
  {
   "attachments": {},
   "cell_type": "markdown",
   "metadata": {},
   "source": [
    "##### 2.2 Dimensionality Reduction with PCA"
   ]
  },
  {
   "cell_type": "code",
   "execution_count": 10,
   "metadata": {},
   "outputs": [
    {
     "name": "stdout",
     "output_type": "stream",
     "text": [
      "PC1 : [-0.2745507  -0.38961733  0.13432128  0.2979616  -0.31935943  0.42583683\n",
      "  0.47636849 -0.13612026 -0.18814454 -0.31741526 -0.03260366]\n",
      "PC2 : [ 0.30688241  0.0698779   0.21915996  0.3676976   0.27508761  0.14094443\n",
      "  0.16173539  0.56525233 -0.18707166  0.15801436 -0.46533456]\n",
      "PC3 : [ 0.42384393 -0.31199606  0.57718466 -0.17304227 -0.0084823  -0.13828438\n",
      " -0.1157912  -0.18433723 -0.46443531  0.07415932  0.2686018 ]\n",
      "PC4 : [-0.19468845 -0.23218441  0.24903651 -0.18583638  0.29124341  0.33512112\n",
      "  0.19781739 -0.09317784  0.39471614  0.63420814  0.09310721]\n",
      "PC5 : [ 0.15858824 -0.11163955  0.16615756  0.39815316 -0.57357391 -0.17106929\n",
      " -0.12865667  0.29725541  0.44715799  0.17649224  0.28633421]\n"
     ]
    }
   ],
   "source": [
    "# Standardize the data with scaler\n",
    "scaler = StandardScaler()\n",
    "scaled_X = scaler.fit_transform(X)\n",
    "\n",
    "# Perform dimesionality reduction with PCA\n",
    "pca = PCA(n_components=5)\n",
    "pca.fit(scaled_X)\n",
    "X_pca = pca.transform(scaled_X)\n",
    "\n",
    "for i, component in enumerate(pca.components_):\n",
    "    print(f\"PC{i+1} : {component}\")"
   ]
  },
  {
   "attachments": {},
   "cell_type": "markdown",
   "metadata": {},
   "source": [
    "##### 2.3 Cross validation (for-against 80-20 split)"
   ]
  },
  {
   "cell_type": "code",
   "execution_count": 11,
   "metadata": {},
   "outputs": [
    {
     "name": "stdout",
     "output_type": "stream",
     "text": [
      "[[-5.18008158 -0.06478225  0.30950317 -0.2667611  -0.18388989 -0.30321604]\n",
      " [-3.40949523 -0.18877996 -0.05323552 -0.1341398  -0.56256704 -0.26720335]\n",
      " [-0.8536028  -0.10576225  0.46475236 -0.34408159 -0.30920475 -0.526021  ]\n",
      " [-0.28356419  0.09068998 -0.05408522  0.10155403  0.09532317  0.15488846]\n",
      " [-2.04557342  0.13803662 -0.53540423  0.42714985  0.30271089  0.73902287]\n",
      " [-4.28505292  0.39117807 -0.56445088  0.38683314  0.18903836  0.91424044]\n",
      " [-6.29523831  0.04288794 -0.30700153  0.15878089  0.11494465  0.31238573]]\n",
      "Logistics Regression Accuracy:  0.549812030075188\n",
      "Cross validation: [0.51973684 0.53289474 0.51033835 0.53759398 0.51221805 0.52161654\n",
      " 0.48590226 0.51597744 0.52161654 0.50093985]\n",
      "CPU times: total: 562 ms\n",
      "Wall time: 241 ms\n"
     ]
    }
   ],
   "source": [
    "%%time\n",
    "from sklearn.linear_model import LogisticRegression\n",
    "from sklearn.model_selection import train_test_split, cross_val_score, ShuffleSplit\n",
    "from sklearn.metrics import accuracy_score\n",
    "\n",
    "# Split the data into training and test sets\n",
    "X_train, X_test, y_train, y_test = train_test_split(X_pca,y, train_size = 0.8, test_size=0.2)\n",
    "\n",
    "lr = LogisticRegression(solver='liblinear')\n",
    "lr.fit(X_train, y_train)\n",
    "\n",
    "yhat = lr.predict(X_test)\n",
    "print(np.hstack((lr.intercept_[:,np.newaxis],lr.coef_)))\n",
    "\n",
    "# Cross validation\n",
    "ss = ShuffleSplit(10, test_size= 0.2)\n",
    "cv_accuracy = cross_val_score(lr, X_pca, y, cv=ss, scoring=\"accuracy\")\n",
    "\n",
    "print('Logistics Regression Accuracy: ', accuracy_score(y_test,yhat))\n",
    "print(f'Cross validation: {cv_accuracy}')"
   ]
  },
  {
   "attachments": {},
   "cell_type": "markdown",
   "metadata": {},
   "source": [
    "The ShuffleSplit cross validation strategy shows that the the size of test data being 0.2 gives somewhat stable accuracies during 10 iterations. <br>\n",
    "\n",
    "The single train-test split and the cross-validation are relatively close in terms of accuracy.<br>\n",
    "\n",
    "Therefore, I will continue using 80-20 data split for the rest of the assignment based on its consistency shown in the cross-validation."
   ]
  },
  {
   "attachments": {},
   "cell_type": "markdown",
   "metadata": {},
   "source": [
    "### 3.Modeling"
   ]
  },
  {
   "attachments": {},
   "cell_type": "markdown",
   "metadata": {},
   "source": [
    "##### 3.1 Implement Logistic regression"
   ]
  },
  {
   "attachments": {},
   "cell_type": "markdown",
   "metadata": {},
   "source": [
    "##### 3.1.1 Implement BinaryLogisticRegression class with customized gradient calculation"
   ]
  },
  {
   "cell_type": "code",
   "execution_count": 12,
   "metadata": {},
   "outputs": [],
   "source": [
    "from scipy.special import expit\n",
    "from scipy.optimize import fmin_bfgs \n",
    "from numpy import ma\n",
    "\n",
    "class BinaryLogisticRegression:\n",
    "    def __init__(self, eta, penalty=None, iterations=20, C=0.001, l1_ratio=0.5):\n",
    "        self.eta = eta\n",
    "        self.penalty = penalty\n",
    "        self.iters = iterations\n",
    "        self.C = C\n",
    "        self.l1_ratio = l1_ratio\n",
    "        # internally we will store the weights as self.w_ to keep with sklearn conventions\n",
    "        \n",
    "    def __str__(self):\n",
    "        if(hasattr(self,'w_')):\n",
    "            return 'Binary Logistic Regression Object with coefficients:\\n'+ str(self.w_) # is we have trained the object\n",
    "        else:\n",
    "            return 'Untrained Binary Logistic Regression Object'\n",
    "        \n",
    "    # convenience, private:\n",
    "    @staticmethod\n",
    "    def _add_bias(X):\n",
    "        return np.hstack((np.ones((X.shape[0],1)),X)) # add bias term\n",
    "    \n",
    "    @staticmethod\n",
    "    def _sigmoid(theta):\n",
    "        # increase stability, redefine sigmoid operation\n",
    "        return expit(theta) #1/(1+np.exp(-theta))\n",
    "    \n",
    "    def _custom_regularization(self, gradient):\n",
    "        # custom regularization\n",
    "        if self.penalty is not None:\n",
    "            if self.penalty == 'l1':\n",
    "                gradient[1:] += -self.C*np.sign(self.w_[1:])\n",
    "            elif self.penalty == 'l2':\n",
    "                gradient[1:] += -2 * self.w_[1:] * self.C\n",
    "            elif self.penalty == 'elasticnet':\n",
    "                gradient[1:] += -self.C * (self.l1_ratio*np.sign(self.w_[1:]) + (1-self.l1_ratio)*2*self.w_[1:])\n",
    "            else:\n",
    "                raise ValueError(\"choose either 'l1','l2','elasticnet' or leave None for No regularization\")\n",
    "        return  gradient\n",
    "\n",
    "    # vectorized gradient calculation with regularization using L2 Norm\n",
    "    def _get_gradient(self,X,y):\n",
    "        ydiff = y-self.predict_proba(X,add_bias=False).ravel() # get y difference\n",
    "        gradient = np.mean(X * ydiff[:,np.newaxis], axis=0) # make ydiff a column vector and multiply through\n",
    "        \n",
    "        gradient = gradient.reshape(self.w_.shape)\n",
    "        return self._custom_regularization(gradient)\n",
    "\n",
    "    # public:\n",
    "    def predict_proba(self,X,add_bias=True):\n",
    "        # add bias term if requested\n",
    "        Xb = self._add_bias(X) if add_bias else X\n",
    "        return self._sigmoid(Xb @ self.w_) # return the probability y=1\n",
    "    \n",
    "    def predict(self,X):\n",
    "        return (self.predict_proba(X)>0.5) #return the actual prediction\n",
    "    \n",
    "    \n",
    "    def fit(self, X, y):\n",
    "        Xb = self._add_bias(X) # add bias term\n",
    "        num_samples, num_features = Xb.shape\n",
    "        \n",
    "        self.w_ = np.zeros((num_features,1)) # init weight vector to zeros\n",
    "        \n",
    "        # for as many as the max iterations\n",
    "        for _ in range(self.iters):\n",
    "            gradient = self._get_gradient(Xb,y)\n",
    "            self.w_ += gradient*self.eta # multiply by learning rate \n",
    "            # add bacause maximizing "
   ]
  },
  {
   "attachments": {},
   "cell_type": "markdown",
   "metadata": {},
   "source": [
    "Customizable regularization is implemented in BinaryLogisticRegression class, the parrent class.<br>\n",
    "This is because MulticlassLogisticRegression does not override get_gradient function for gradient calculation and relies on parent classes for the function.<br>\n"
   ]
  },
  {
   "attachments": {},
   "cell_type": "markdown",
   "metadata": {},
   "source": [
    "##### 3.1.2 SteepestAscentLogisticRegression"
   ]
  },
  {
   "cell_type": "code",
   "execution_count": 13,
   "metadata": {},
   "outputs": [],
   "source": [
    "class SteepestAscentLogisticRegression(BinaryLogisticRegression):\n",
    "    def fit(self, X, y):\n",
    "            Xb = self._add_bias(X)  # add bias term\n",
    "            num_samples, num_features = Xb.shape\n",
    "            \n",
    "            self.w_ = np.zeros((num_features, 1))  # initialize weight vector to zeros\n",
    "            \n",
    "            for _ in range(self.iters):\n",
    "                gradient = self._get_gradient(Xb, y)\n",
    "                self.w_ += gradient * self.eta  # update weights using gradient ascent (positive direction)"
   ]
  },
  {
   "attachments": {},
   "cell_type": "markdown",
   "metadata": {},
   "source": [
    "As SteepestAscent is not provided in the template, I added a new class to make the assignment requirements are met.<br><br>\n",
    "I did not know what Steepest ascent meant, so I got help from generative AI for knowledge and implementation. <br>Steepest ascent is used for an objective function that requires maximizaion.\n",
    "<br>\n"
   ]
  },
  {
   "attachments": {},
   "cell_type": "markdown",
   "metadata": {},
   "source": [
    "##### 3.1.3 StochasticLogisticRegression"
   ]
  },
  {
   "cell_type": "code",
   "execution_count": 14,
   "metadata": {},
   "outputs": [],
   "source": [
    "class StochasticLogisticRegression(BinaryLogisticRegression):\n",
    "    # stochastic gradient calculation \n",
    "    def _get_gradient(self,X,y):\n",
    "        \n",
    "        # grab a subset of samples in a mini-batch\n",
    "        # and calculate the gradient according to the small batch only\n",
    "        mini_batch_size = 16\n",
    "        idxs = np.random.choice(len(y), mini_batch_size)\n",
    "        \n",
    "        ydiff = y[idxs]-self.predict_proba(X[idxs],add_bias=False).ravel() # get y difference (now scalar)\n",
    "        gradient = np.mean(X[idxs] * ydiff[:,np.newaxis], axis=0) # make ydiff a column vector and multiply through\n",
    "        \n",
    "        gradient = gradient.reshape(self.w_.shape)\n",
    "\n",
    "        return  self._custom_regularization(gradient)\n",
    "        "
   ]
  },
  {
   "attachments": {},
   "cell_type": "markdown",
   "metadata": {},
   "source": [
    "##### 3.1.4 HessianBinaryLogisticRegression(Newton's Update Method)"
   ]
  },
  {
   "cell_type": "code",
   "execution_count": 15,
   "metadata": {},
   "outputs": [],
   "source": [
    "from numpy.linalg import pinv\n",
    "\n",
    "class HessianBinaryLogisticRegression(BinaryLogisticRegression):\n",
    "    # just overwrite gradient function\n",
    "    def _get_gradient(self,X,y):\n",
    "        g = self.predict_proba(X,add_bias=False).ravel() # get sigmoid value for all classes\n",
    "        hessian = X.T @ np.diag(g*(1-g)) @ X - 2 * self.C # calculate the hessian\n",
    "\n",
    "        ydiff = y-g # get y difference\n",
    "        gradient = np.sum(X * ydiff[:,np.newaxis], axis=0) # make ydiff a column vector and multiply through\n",
    "        gradient = gradient.reshape(self.w_.shape)\n",
    "        \n",
    "        return pinv(hessian) @ self._custom_regularization(gradient)\n",
    "       "
   ]
  },
  {
   "attachments": {},
   "cell_type": "markdown",
   "metadata": {},
   "source": [
    "##### 3.1.5 BFGSBinaryLogisticRegression(Quasi-Newton)"
   ]
  },
  {
   "cell_type": "code",
   "execution_count": 16,
   "metadata": {},
   "outputs": [],
   "source": [
    "class BFGSBinaryLogisticRegression(BinaryLogisticRegression):\n",
    "    \n",
    "    @staticmethod\n",
    "    def objective_function(w,X,y,C,penalty,l1_ratio):\n",
    "        g = expit(X @ w)\n",
    "        # invert this because scipy minimizes, but we derived all formulas for maximzing\n",
    "        return -ma.sum(ma.log(g[y==1]))-ma.sum(ma.log(1-g[y==0])) + C*sum(w**2) \n",
    "        #-np.sum(y*np.log(g)+(1-y)*np.log(1-g))\n",
    "\n",
    "    @staticmethod\n",
    "    def objective_gradient(w,X,y,C,penalty,l1_ratio):\n",
    "        g = expit(X @ w)\n",
    "        ydiff = y-g # get y difference\n",
    "        gradient = np.mean(X * ydiff[:,np.newaxis], axis=0)\n",
    "        gradient = gradient.reshape(w.shape)\n",
    "        # applying custom regularization\n",
    "        if penalty is not None:\n",
    "            if penalty == 'l1':\n",
    "                gradient[1:] += -C * np.sign(w[1:])\n",
    "            elif penalty == 'l2':\n",
    "                gradient[1:] += -2 * C * w[1:]\n",
    "            elif penalty == 'elasticnet':\n",
    "                gradient[1:] += -C * (l1_ratio * np.sign(w[1:]) + (1 - l1_ratio) * 2 * w[1:])\n",
    "            else:\n",
    "                raise ValueError(\"Choose either 'l1', 'l2', 'elasticnet' or leave None for no regularization\")\n",
    "        return -gradient\n",
    "    \n",
    "    # just overwrite fit function\n",
    "    def fit(self, X, y):\n",
    "        Xb = self._add_bias(X) # add bias term\n",
    "        num_samples, num_features = Xb.shape\n",
    "        \n",
    "        self.w_ = fmin_bfgs(self.objective_function, # what to optimize\n",
    "                            np.zeros((num_features,1)), # starting point\n",
    "                            fprime=self.objective_gradient, # gradient function\n",
    "                            args=(Xb,y,self.C, self.penalty, self.l1_ratio), # extra args for gradient and objective function\n",
    "                            gtol=1e-03, # stopping criteria for gradient, |v_k|\n",
    "                            maxiter=self.iters, # stopping criteria iterations\n",
    "                            disp=False)\n",
    "        \n",
    "        self.w_ = self.w_.reshape((num_features,1))"
   ]
  },
  {
   "attachments": {},
   "cell_type": "markdown",
   "metadata": {},
   "source": [
    "##### 3.1.6 MultiClassLogisticRegression with Optimization techniques."
   ]
  },
  {
   "cell_type": "code",
   "execution_count": 17,
   "metadata": {},
   "outputs": [],
   "source": [
    "class MultiClassLogisticRegression:\n",
    "    solvers={\n",
    "        None: BFGSBinaryLogisticRegression,\n",
    "        \"hessian\":HessianBinaryLogisticRegression,\n",
    "        \"stochastic\":StochasticLogisticRegression,\n",
    "        \"steepest\":SteepestAscentLogisticRegression,\n",
    "    }\n",
    "    def __init__(self, eta, iterations=20, \n",
    "                 C=0.0001, \n",
    "                 solver=None):\n",
    "        self.eta = eta\n",
    "        self.iters = iterations\n",
    "        self.C = C\n",
    "        # custom optimization technique with instantiation\n",
    "        if solver not in self.solvers:\n",
    "            raise ValueError(\"choose either 'hessian','stochastic','steepest' or leave None for BFGSBinaryLogisticRegression\")\n",
    "        self.solver = self.solvers[solver]\n",
    "        \n",
    "        self.classifiers_ = []\n",
    "        # internally we will store the weights as self.w_ to keep with sklearn conventions\n",
    "    \n",
    "    def __str__(self):\n",
    "        if(hasattr(self,'w_')):\n",
    "            return 'MultiClass Logistic Regression Object with coefficients:\\n'+ str(self.w_) # is we have trained the object\n",
    "        else:\n",
    "            return 'Untrained MultiClass Logistic Regression Object'\n",
    "        \n",
    "    def fit(self,X,y):\n",
    "        num_samples, num_features = X.shape\n",
    "        self.unique_ = np.sort(np.unique(y)) # get each unique class value\n",
    "        num_unique_classes = len(self.unique_)\n",
    "        self.classifiers_ = []\n",
    "        for i,yval in enumerate(self.unique_): # for each unique value\n",
    "            y_binary = np.array(y==yval).astype(int) # create a binary problem\n",
    "            # train the binary classifier for this class\n",
    "            \n",
    "            hblr = self.solver(eta=self.eta,iterations=self.iters,C=self.C)\n",
    "            hblr.fit(X,y_binary)\n",
    "\n",
    "            # add the trained classifier to the list\n",
    "            self.classifiers_.append(hblr)\n",
    "            \n",
    "        # save all the weights into one matrix, separate column for each class\n",
    "        self.w_ = np.hstack([x.w_ for x in self.classifiers_]).T\n",
    "        \n",
    "    def predict_proba(self,X):\n",
    "        probs = []\n",
    "        for hblr in self.classifiers_:\n",
    "            probs.append(hblr.predict_proba(X).reshape((len(X),1))) # get probability for each classifier\n",
    "        \n",
    "        return np.hstack(probs) # make into single matrix\n",
    "    \n",
    "    def predict(self,X):\n",
    "        return self.unique_[np.argmax(self.predict_proba(X),axis=1)] # take argmax along row"
   ]
  },
  {
   "attachments": {},
   "cell_type": "markdown",
   "metadata": {},
   "source": [
    "##### 3.2 Visualize Performance of the classifier"
   ]
  },
  {
   "cell_type": "code",
   "execution_count": 18,
   "metadata": {},
   "outputs": [],
   "source": [
    "# Split the data into training and test sets\n",
    "X_train, X_test, y_train, y_test = train_test_split(X_pca,y, train_size = 0.8, test_size=0.2)\n",
    "\n",
    "# Define the parameter range\n",
    "param_range = {'C': [10**i for i in range(-4, 5)],\n",
    "              'solver':[None,\"hessian\",\"stochastic\",\"steepest\"]\n",
    "              }  # C values from 10^-4 to 10^4, 4 solvers\n"
   ]
  },
  {
   "attachments": {},
   "cell_type": "markdown",
   "metadata": {},
   "source": [
    "##### 3.2.1 Exhaustive search for best C and solver"
   ]
  },
  {
   "cell_type": "code",
   "execution_count": 107,
   "metadata": {},
   "outputs": [
    {
     "name": "stdout",
     "output_type": "stream",
     "text": [
      "Optimization technique:None C: 0.0001, test_accuracy: 0.5122, time takne: 0.08600\n",
      "Optimization technique:hessian C: 0.0001, test_accuracy: 0.5132, time takne: 31.50100\n",
      "Optimization technique:stochastic C: 0.0001, test_accuracy: 0.5028, time takne: 0.06400\n",
      "Optimization technique:steepest C: 0.0001, test_accuracy: 0.5028, time takne: 0.22100\n",
      "\n",
      "\n",
      "Optimization technique:None C: 0.001, test_accuracy: 0.5122, time takne: 0.08100\n",
      "Optimization technique:hessian C: 0.001, test_accuracy: 0.5132, time takne: 32.36000\n",
      "Optimization technique:stochastic C: 0.001, test_accuracy: 0.5141, time takne: 0.07000\n",
      "Optimization technique:steepest C: 0.001, test_accuracy: 0.5028, time takne: 0.21800\n",
      "\n",
      "\n",
      "Optimization technique:None C: 0.01, test_accuracy: 0.5122, time takne: 0.07300\n",
      "Optimization technique:hessian C: 0.01, test_accuracy: 0.5132, time takne: 32.64300\n",
      "Optimization technique:stochastic C: 0.01, test_accuracy: 0.5038, time takne: 0.06800\n",
      "Optimization technique:steepest C: 0.01, test_accuracy: 0.5028, time takne: 0.23600\n",
      "\n",
      "\n",
      "Optimization technique:None C: 0.1, test_accuracy: 0.5122, time takne: 0.09300\n",
      "Optimization technique:hessian C: 0.1, test_accuracy: 0.5132, time takne: 32.56500\n",
      "Optimization technique:stochastic C: 0.1, test_accuracy: 0.5160, time takne: 0.07700\n",
      "Optimization technique:steepest C: 0.1, test_accuracy: 0.5028, time takne: 0.21400\n",
      "\n",
      "\n",
      "Optimization technique:None C: 1, test_accuracy: 0.5122, time takne: 0.16604\n",
      "Optimization technique:hessian C: 1, test_accuracy: 0.5132, time takne: 32.95596\n",
      "Optimization technique:stochastic C: 1, test_accuracy: 0.5000, time takne: 0.07400\n",
      "Optimization technique:steepest C: 1, test_accuracy: 0.5028, time takne: 0.21700\n",
      "\n",
      "\n",
      "Optimization technique:None C: 10, test_accuracy: 0.5122, time takne: 0.19305\n",
      "Optimization technique:hessian C: 10, test_accuracy: 0.5000, time takne: 32.17095\n",
      "Optimization technique:stochastic C: 10, test_accuracy: 0.4972, time takne: 0.06804\n",
      "Optimization technique:steepest C: 10, test_accuracy: 0.5028, time takne: 0.20895\n",
      "\n",
      "\n",
      "Optimization technique:None C: 100, test_accuracy: 0.5047, time takne: 0.20200\n",
      "Optimization technique:hessian C: 100, test_accuracy: 0.4502, time takne: 32.41300\n",
      "Optimization technique:stochastic C: 100, test_accuracy: 0.5019, time takne: 0.07200\n",
      "Optimization technique:steepest C: 100, test_accuracy: 0.5028, time takne: 0.21004\n",
      "\n",
      "\n",
      "Optimization technique:None C: 1000, test_accuracy: 0.4981, time takne: 0.23097\n",
      "Optimization technique:hessian C: 1000, test_accuracy: 0.3872, time takne: 32.18200\n",
      "Optimization technique:stochastic C: 1000, test_accuracy: 0.5047, time takne: 0.08004\n",
      "Optimization technique:steepest C: 1000, test_accuracy: 0.5028, time takne: 0.21096\n",
      "\n",
      "\n",
      "Optimization technique:None C: 10000, test_accuracy: 0.3675, time takne: 0.14400\n",
      "Optimization technique:hessian C: 10000, test_accuracy: 0.4774, time takne: 32.10600\n",
      "Optimization technique:stochastic C: 10000, test_accuracy: 0.5160, time takne: 0.06700\n",
      "Optimization technique:steepest C: 10000, test_accuracy: 0.5028, time takne: 0.22300\n",
      "\n",
      "\n"
     ]
    }
   ],
   "source": [
    "from sklearn import metrics as mt\n",
    "import time\n",
    "# Initialize logistic regression model\n",
    "bl = BinaryLogisticRegression(eta=0.1, penalty='l2',iterations= 20, C=0.001)\n",
    "\n",
    "results, c_values, solvers, timers = [], [], [], []\n",
    "\n",
    "for C in param_range['C']:\n",
    "    for solver in param_range['solver']:\n",
    "        start_time = time.time()\n",
    "        \n",
    "        mclr = MultiClassLogisticRegression(eta= 0.1, C=C,solver=solver, iterations=140)\n",
    "        \n",
    "        mclr.fit(X_train,y_train)  # train object\n",
    "        y_hat = mclr.predict(X_test) # get test set precitions\n",
    "        accuracy = mt.accuracy_score(y_test,y_hat) # calculate accuracy\n",
    "        \n",
    "        end_time = time.time()\n",
    "        iteration_time = end_time - start_time\n",
    "        \n",
    "        # Save the results\n",
    "        solvers.append(solver)\n",
    "        c_values.append(C)\n",
    "        results.append(accuracy)\n",
    "        timers.append(iteration_time)\n",
    "        \n",
    "        # print the accuracy and time taken \n",
    "        print(f'Optimization technique:{solver} C: {C}, test_accuracy: {accuracy:.4f}, time takne: {iteration_time:.5f}')\n",
    "    print('\\n') \n"
   ]
  },
  {
   "attachments": {},
   "cell_type": "markdown",
   "metadata": {},
   "source": [
    "This method of exhaustive iterations with C and solvers is more likely to have data snooping due to lack of cross-validation and the direct use of test set for hyperparameter tuning.<br>\n"
   ]
  },
  {
   "cell_type": "code",
   "execution_count": 108,
   "metadata": {},
   "outputs": [
    {
     "name": "stdout",
     "output_type": "stream",
     "text": [
      "       solver       C  accuracy\n",
      "0        None  0.0001  0.512218\n",
      "1     hessian  0.0001  0.513158\n",
      "2  stochastic  0.0001  0.502820\n",
      "3    steepest  0.0001  0.502820\n",
      "4        None  0.0010  0.512218\n",
      "       solver       C      timer\n",
      "0        None  0.0001   0.085998\n",
      "1     hessian  0.0001  31.500998\n",
      "2  stochastic  0.0001   0.063999\n",
      "3    steepest  0.0001   0.221000\n",
      "4        None  0.0010   0.081004\n"
     ]
    },
    {
     "data": {
      "image/png": "[encoded data removed]",
      "text/plain": [
       "<Figure size 1200x800 with 2 Axes>"
      ]
     },
     "metadata": {},
     "output_type": "display_data"
    },
    {
     "data": {
      "image/png": "[encoded data removed]",
      "text/plain": [
       "<Figure size 1200x800 with 2 Axes>"
      ]
     },
     "metadata": {},
     "output_type": "display_data"
    }
   ],
   "source": [
    "import pandas as pd\n",
    "import seaborn as sns\n",
    "from matplotlib import pyplot as plt\n",
    "%matplotlib inline\n",
    "# build new dataset for visualization\n",
    "results_df = pd.DataFrame({\n",
    "    'solver': solvers,\n",
    "    'C':c_values,\n",
    "    'accuracy':results,\n",
    "})\n",
    "\n",
    "timers_df = pd.DataFrame({\n",
    "    'solver': solvers,\n",
    "    'C':c_values,\n",
    "    'timer':timers,})\n",
    "\n",
    "pivot_table_ac = results_df.pivot(index='solver', columns='C', values='accuracy')\n",
    "pivot_table_t = timers_df.pivot(index='solver', columns='C', values='timer')\n",
    "\n",
    "print(results_df.head())\n",
    "print(timers_df.head())\n",
    "\n",
    "# Plot a heatmap for accuracy and time each with respect to C and solver \n",
    "plt.figure(figsize=(12, 8))\n",
    "sns.heatmap(pivot_table_ac, annot=True, fmt=\".4f\", cmap='viridis')\n",
    "plt.title('Classifier Accuracy Heatmap')\n",
    "plt.xlabel('C')\n",
    "plt.ylabel('Solver')\n",
    "plt.show()\n",
    "\n",
    "plt.figure(figsize=(12, 8))\n",
    "sns.heatmap(pivot_table_t, annot=True, fmt=\".4f\", cmap='viridis')\n",
    "plt.title('Classifier Time Heatmap')\n",
    "plt.xlabel('C')\n",
    "plt.ylabel('Solver')\n",
    "plt.show()\n"
   ]
  },
  {
   "attachments": {},
   "cell_type": "markdown",
   "metadata": {},
   "source": [
    "The heatmap shows that the lower C values perform better in most of the optimization techniques. None(BFGSBinaryLogisticRegression) and hessian(HessianBinaryLogisticRegression) perform better in C range between 10^-4 and 10^0.\n",
    "In terms of time, hessian(HessianBinaryLogisticRegression) takes exceptionally longer than other model."
   ]
  },
  {
   "attachments": {},
   "cell_type": "markdown",
   "metadata": {},
   "source": [
    "Next is where c value changes with cross-validation, visualizing the results with a box plot."
   ]
  },
  {
   "cell_type": "code",
   "execution_count": 109,
   "metadata": {},
   "outputs": [],
   "source": [
    "num_cv_iterations = 20\n",
    "y_np = y.to_numpy()\n",
    "X_np = X.to_numpy()\n",
    "num_instances = len(y_np)\n",
    "cv_object = ShuffleSplit(n_splits=num_cv_iterations,\n",
    "                         test_size  = 0.2)\n",
    "\n",
    "def mclr_explor(C):\n",
    "    mclr = MultiClassLogisticRegression(eta= 0.1, C=C,solver=solver, iterations=140) # get object\n",
    "    acc = []\n",
    "    for iter_num, (train_indices, test_indices) in enumerate(cv_object.split(X_np,y_np)):\n",
    "        mclr.fit(X_np[train_indices],y_np[train_indices])  # train object\n",
    "        y_hat = mclr.predict(X_np[test_indices]) # get test set predictions\n",
    "        acc.append(mt.accuracy_score(y_np[test_indices],y_hat))\n",
    "        \n",
    "    acc = np.array(acc)\n",
    "    return acc\n",
    "\n",
    "costs = np.logspace(-5,1,20)\n",
    "accs = []\n",
    "for c in costs:\n",
    "    accs.append(mclr_explor(c))\n",
    "    "
   ]
  },
  {
   "cell_type": "code",
   "execution_count": 110,
   "metadata": {},
   "outputs": [
    {
     "data": {
      "image/png": "[encoded data removed]",
      "text/plain": [
       "<Figure size 640x480 with 1 Axes>"
      ]
     },
     "metadata": {},
     "output_type": "display_data"
    }
   ],
   "source": [
    "# a boxplot of the data across c\n",
    "from matplotlib import pyplot as plt\n",
    "%matplotlib inline\n",
    "\n",
    "plt.boxplot(accs)\n",
    "plt.xticks(range(1,len(costs)+1),['%.4f'%(c) for c in costs],rotation='vertical')\n",
    "plt.xlabel('C')\n",
    "plt.ylabel('validation accuracy')\n",
    "plt.show()"
   ]
  },
  {
   "attachments": {},
   "cell_type": "markdown",
   "metadata": {},
   "source": [
    "There are many outliers in the box plot.<br>\n",
    "However, overall accuracies are relatively stable."
   ]
  },
  {
   "attachments": {},
   "cell_type": "markdown",
   "metadata": {},
   "source": [
    "##### 3.2.2 Comparision between custom logistic regression model and scikit model"
   ]
  },
  {
   "cell_type": "code",
   "execution_count": 111,
   "metadata": {},
   "outputs": [
    {
     "name": "stdout",
     "output_type": "stream",
     "text": [
      "\n",
      "Best C: 0.1\n",
      "Best solver: stochastic\n",
      "Best accuracy: 0.5160\n",
      "Best timer: 0.0770\n"
     ]
    }
   ],
   "source": [
    "#converting the results to numpy arrays\n",
    "solvers= np.array(solvers)\n",
    "c_values= np.array(c_values)\n",
    "results = np.array(results)\n",
    "timers = np.array(timers)\n",
    "\n",
    "# Find the best performance\n",
    "best_idx = np.argmax(results)\n",
    "best_c = c_values[best_idx]\n",
    "best_solver = solvers[best_idx]\n",
    "best_accuracy= results[best_idx]\n",
    "best_time = timers[best_idx]\n",
    "\n",
    "print(f\"\\nBest C: {best_c}\")\n",
    "print(f\"Best solver: {best_solver}\")\n",
    "print(f\"Best accuracy: {best_accuracy:.4f}\")\n",
    "print(f\"Best timer: {best_time:.4f}\")\n"
   ]
  },
  {
   "cell_type": "code",
   "execution_count": 113,
   "metadata": {},
   "outputs": [
    {
     "name": "stdout",
     "output_type": "stream",
     "text": [
      "[[-1.76365428 -0.19536067  0.458616   -0.36747584 -0.04429576 -0.46516796]\n",
      " [ 0.02968218 -0.28257259  0.19089221 -0.23230076 -0.52857411 -0.53182772]\n",
      " [ 2.23927128 -0.1227787   0.4802537  -0.29425813 -0.2175794  -0.54273091]\n",
      " [ 2.69819186 -0.00378957  0.09654811  0.00875448  0.14153297 -0.07316685]\n",
      " [ 1.20503849  0.08375526 -0.3464468   0.38119799  0.34929565  0.50287669]\n",
      " [-0.89013883  0.38894582 -0.56360198  0.30804201  0.23374837  0.82382375]\n",
      " [-3.51839069  0.13180045 -0.31626123  0.19604025  0.06587228  0.28619299]]\n",
      "Logistics Regression Accuracy:  0.5018796992481203\n",
      "Cross validation: 0.5176691729323308\n",
      "CPU times: total: 1.23 s\n",
      "Wall time: 1.5 s\n"
     ]
    }
   ],
   "source": [
    "%%time\n",
    "from sklearn.linear_model import LogisticRegression\n",
    "from sklearn.model_selection import train_test_split, cross_val_score, ShuffleSplit\n",
    "from sklearn.metrics import accuracy_score\n",
    "\n",
    "# Split the data into training and test sets\n",
    "X_train, X_test, y_train, y_test = train_test_split(X_pca,y, train_size = 0.8, test_size=0.2)\n",
    "\n",
    "lr = LogisticRegression(solver='sag', C=0.1, penalty='l2', max_iter=140)\n",
    "lr.fit(X_train, y_train)\n",
    "\n",
    "yhat = lr.predict(X_test)\n",
    "print(np.hstack((lr.intercept_[:,np.newaxis],lr.coef_)))\n",
    "\n",
    "# Cross validation\n",
    "ss = ShuffleSplit(10, test_size= 0.2)\n",
    "cv_accuracy = cross_val_score(lr, X_pca, y, cv=ss, scoring=\"accuracy\")\n",
    "mean_cv_accuracy = np.mean(cv_accuracy)\n",
    "\n",
    "print('Logistics Regression Accuracy: ', accuracy_score(y_test,yhat) )\n",
    "print(f'Cross validation: {mean_cv_accuracy}')"
   ]
  },
  {
   "cell_type": "code",
   "execution_count": 153,
   "metadata": {},
   "outputs": [
    {
     "data": {
      "image/png": "[encoded data removed]",
      "text/plain": [
       "<Figure size 800x400 with 2 Axes>"
      ]
     },
     "metadata": {},
     "output_type": "display_data"
    }
   ],
   "source": [
    "models = ['Scikit Logistic Regression', 'Custom Multiclass Regression']\n",
    "accuracies = [0.5018 ,0.5160]\n",
    "times = [1.5, 0.077 ]\n",
    "\n",
    "# Create figure and axes\n",
    "fig, ax1 = plt.subplots(figsize=(8, 4))\n",
    "\n",
    "# Plotting bars for accuracy\n",
    "ax1.bar(models, accuracies, color='b', alpha=0.5, label='Accuracy')\n",
    "\n",
    "# Adding labels and title\n",
    "ax1.set_xlabel('Regression Models')\n",
    "ax1.set_ylabel('Accuracy', color='b')\n",
    "ax1.set_title('Comparison of Regression Models: Accuracy and Time')\n",
    "ax1.tick_params(axis='y', labelcolor='b')\n",
    "ax1.set_ylim(0, 1)  # Ensure accuracy axis range from 0 to 1\n",
    "\n",
    "# Create second y-axis for time (line chart)\n",
    "ax2 = ax1.twinx()\n",
    "ax2.plot(models, times, color='r', marker='o', label='Time (seconds)')\n",
    "ax2.set_ylabel('Time (seconds)', color='r')\n",
    "ax2.tick_params(axis='y', labelcolor='r')\n",
    "ax2.set_ylim(0, max(times) * 1.2)  # Adjust range for time axis\n",
    "\n",
    "# Adding legend\n",
    "ax1.legend(loc='upper left')\n",
    "ax2.legend(loc='upper right')\n",
    "\n",
    "# Show plot\n",
    "plt.tight_layout()\n",
    "plt.show()"
   ]
  },
  {
   "attachments": {},
   "cell_type": "markdown",
   "metadata": {},
   "source": [
    "The best logistic regression was with stochastic logistic regression solver where c is 0.1, 140 iterations, and l2 regularization.<br>\n",
    "The results are C: 0.1, solver: stochastic, accuracy: 0.5160, time: 0.0770s.<br>\n",
    "The logistic regression with stochastic average gradient where c is 0.1, 140 max iterations, and l2 regularization.<br>\n",
    "The results are 0.5018 of accuracy and 1.5s.<br><br>\n",
    "According to the results, the custom implementation of regression model performs better than scikit-learn.<br><br>\n",
    "\n",
    "However,scikit-learn implementation is easier to implement and maintain, and it offers other features and functionalities.<br>\n",
    "In addition, the performance was not consistently exceeding scikit-learn model's results. \n",
    "\n",
    "\n",
    "\n",
    "\n"
   ]
  },
  {
   "attachments": {},
   "cell_type": "markdown",
   "metadata": {},
   "source": [
    "### 4. Exceptional Work"
   ]
  },
  {
   "attachments": {},
   "cell_type": "markdown",
   "metadata": {},
   "source": [
    " Gradient Calculation of MSE = ∇wMSE(w) = -mean(2(y \n",
    "i −g(w \n",
    "T\n",
    " x \n",
    "i\n",
    "​\n",
    " ))g \n",
    "′\n",
    " (w \n",
    "T\n",
    " x \n",
    "i\n",
    "​\n",
    " )x \n",
    "i\n",
    "​)\n",
    ", \n",
    "where σ \n",
    "′\n",
    " (⋅) is the derivative of the sigmoid function, \n",
    "g\n",
    "′\n",
    " (⋅)=g(⋅)(1−g(⋅))"
   ]
  },
  {
   "cell_type": "code",
   "execution_count": 144,
   "metadata": {},
   "outputs": [],
   "source": [
    "class MSE_HessianLogisticRegression(BinaryLogisticRegression):\n",
    "\n",
    "    # vectorized gradient calculation with MSE\n",
    "    def _get_gradient(self,X,y):\n",
    "        g = self.predict_proba(X,add_bias=False).ravel()\n",
    "        ydiff = np.array(y-g) # get y difference\n",
    "        \n",
    "        # Gradient of MSE\n",
    "        gradient = -np.mean((2*ydiff*g*(1-g))[:,np.newaxis]*X, axis=0)\n",
    "        \n",
    "        # Hessian function \n",
    "        hessian = X.T @ np.diag(g*(1-g)*(1-2*g)) @ X / X.shape[0]\n",
    "        \n",
    "        gradient = gradient.reshape(self.w_.shape)\n",
    "        \n",
    "        return pinv(hessian) @ self._custom_regularization(gradient)"
   ]
  },
  {
   "cell_type": "code",
   "execution_count": 145,
   "metadata": {},
   "outputs": [],
   "source": [
    "class MultiClassLogisticRegression:\n",
    "    # Added MSE_HessianLogisticRegression class as one of the solvers\n",
    "    solvers={\n",
    "        None: BFGSBinaryLogisticRegression,\n",
    "        \"hessian\":HessianBinaryLogisticRegression,\n",
    "        \"stochastic\":StochasticLogisticRegression,\n",
    "        \"steepest\":SteepestAscentLogisticRegression,\n",
    "        \"mse\": MSE_HessianLogisticRegression,\n",
    "    }\n",
    "    def __init__(self, eta, iterations=20, \n",
    "                 C=0.0001, \n",
    "                 solver=None):\n",
    "        self.eta = eta\n",
    "        self.iters = iterations\n",
    "        self.C = C\n",
    "        # custom optimization technique with instantiation\n",
    "        if solver not in self.solvers:\n",
    "            raise ValueError(\"choose either 'hessian','stochastic','steepest' or leave None for BFGSBinaryLogisticRegression\")\n",
    "        self.solver = self.solvers[solver]\n",
    "        \n",
    "        self.classifiers_ = []\n",
    "        # internally we will store the weights as self.w_ to keep with sklearn conventions\n",
    "    \n",
    "    def __str__(self):\n",
    "        if(hasattr(self,'w_')):\n",
    "            return 'MultiClass Logistic Regression Object with coefficients:\\n'+ str(self.w_) # is we have trained the object\n",
    "        else:\n",
    "            return 'Untrained MultiClass Logistic Regression Object'\n",
    "        \n",
    "    def fit(self,X,y):\n",
    "        num_samples, num_features = X.shape\n",
    "        self.unique_ = np.sort(np.unique(y)) # get each unique class value\n",
    "        num_unique_classes = len(self.unique_)\n",
    "        self.classifiers_ = []\n",
    "        for i,yval in enumerate(self.unique_): # for each unique value\n",
    "            y_binary = np.array(y==yval).astype(int) # create a binary problem\n",
    "            # train the binary classifier for this class\n",
    "            \n",
    "            hblr = self.solver(eta=self.eta,iterations=self.iters,C=self.C)\n",
    "            hblr.fit(X,y_binary)\n",
    "\n",
    "            # add the trained classifier to the list\n",
    "            self.classifiers_.append(hblr)\n",
    "            \n",
    "        # save all the weights into one matrix, separate column for each class\n",
    "        self.w_ = np.hstack([x.w_ for x in self.classifiers_]).T\n",
    "        \n",
    "    def predict_proba(self,X):\n",
    "        probs = []\n",
    "        for hblr in self.classifiers_:\n",
    "            probs.append(hblr.predict_proba(X).reshape((len(X),1))) # get probability for each classifier\n",
    "        \n",
    "        return np.hstack(probs) # make into single matrix\n",
    "    \n",
    "    def predict(self,X):\n",
    "        return self.unique_[np.argmax(self.predict_proba(X),axis=1)] # take argmax along row"
   ]
  },
  {
   "cell_type": "code",
   "execution_count": 150,
   "metadata": {},
   "outputs": [
    {
     "name": "stdout",
     "output_type": "stream",
     "text": [
      "The accuracy of MSE_Hessian Logistic Regression: 0.4943609022556391\n",
      "CPU times: total: 2min 21s\n",
      "Wall time: 33.6 s\n"
     ]
    }
   ],
   "source": [
    "%%time\n",
    "mselr = MultiClassLogisticRegression(eta=0.1, iterations=140, C=0.1, solver=\"mse\")\n",
    "mselr.fit(X_train, y_train)\n",
    "y_pred = mselr.predict(X_train)\n",
    "\n",
    "y_hat = mclr.predict(X_test) # get test set precitions\n",
    "accuracy = mt.accuracy_score(y_test,y_hat) # calculate accuracy\n",
    "\n",
    "print(f\"The accuracy of MSE_Hessian Logistic Regression: {accuracy}\")"
   ]
  },
  {
   "attachments": {},
   "cell_type": "markdown",
   "metadata": {},
   "source": [
    "Based on the result of using hessian method between MLE and MSE, time taken for the running the models and accuracy do not differ significantly<br>\n",
    "I assumed that the more classes there are in multiclass regression, the more likely the outcome will look like the one from linear regression<br>\n",
    "MSE was used for linear regression model and MLE was used for logistic regression model in the class.<br>\n",
    "The reason of applying MSE for multiclass regression is attributed to the characteristic of multiclass regression that resembles both regression models.<br>\n",
    "For this classification task, the number of classes is 11(0-10) and does not large enough for the model to work like linear regression.<br>\n",
    "The results of running the model with MSE do not exceed other models with MLE.<br>\n",
    "Therfore, I prefer using MLE for the task.\n"
   ]
  },
  {
   "attachments": {},
   "cell_type": "markdown",
   "metadata": {},
   "source": [
    "# Reference"
   ]
  },
  {
   "attachments": {},
   "cell_type": "markdown",
   "metadata": {},
   "source": [
    "Cortez,Paulo, Cerdeira,A., Almeida,F., Matos,T., and Reis,J.. (2009). Wine Quality. UCI Machine Learning Repository. https://doi.org/10.24432/C56S3T."
   ]
  }
 ],
 "metadata": {
  "kernelspec": {
   "display_name": "myenv",
   "language": "python",
   "name": "python3"
  },
  "language_info": {
   "codemirror_mode": {
    "name": "ipython",
    "version": 3
   },
   "file_extension": ".py",
   "mimetype": "text/x-python",
   "name": "python",
   "nbconvert_exporter": "python",
   "pygments_lexer": "ipython3",
   "version": "3.11.4"
  },
  "orig_nbformat": 4
 },
 "nbformat": 4,
 "nbformat_minor": 2
}
